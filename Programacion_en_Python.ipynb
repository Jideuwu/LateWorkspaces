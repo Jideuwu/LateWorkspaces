{
  "nbformat": 4,
  "nbformat_minor": 0,
  "metadata": {
    "colab": {
      "provenance": [],
      "authorship_tag": "ABX9TyP76MiW0wtBMbHCdJffz75W",
      "include_colab_link": true
    },
    "kernelspec": {
      "name": "python3",
      "display_name": "Python 3"
    },
    "language_info": {
      "name": "python"
    }
  },
  "cells": [
    {
      "cell_type": "markdown",
      "metadata": {
        "id": "view-in-github",
        "colab_type": "text"
      },
      "source": [
        "<a href=\"https://colab.research.google.com/github/Jideuwu/LateWorkspaces/blob/main/Programacion_en_Python.ipynb\" target=\"_parent\"><img src=\"https://colab.research.google.com/assets/colab-badge.svg\" alt=\"Open In Colab\"/></a>"
      ]
    },
    {
      "cell_type": "markdown",
      "source": [
        "##Hace un codigo que concatene dos string en un mensaje"
      ],
      "metadata": {
        "id": "iD_7waM7KLiO"
      }
    },
    {
      "cell_type": "code",
      "source": [
        "# Pedir al usuario la primera cadena\n",
        "str1 = input(\"Ingrese la primera cadena: \")\n",
        "\n",
        "# Pedir al usuario la segunda cadena\n",
        "str2 = input(\"Ingrese la segunda cadena: \")\n",
        "\n",
        "# Concatenar las cadenas con un espacio entre ellas\n",
        "resultado = str1 + \" \" + str2\n",
        "\n",
        "# Mostrar el resultado\n",
        "print(\"El mensaje concatenado es:\", resultado)"
      ],
      "metadata": {
        "colab": {
          "base_uri": "https://localhost:8080/"
        },
        "id": "PuZSu6qNKL3Y",
        "outputId": "c2a17be8-d7db-4689-b6d3-1ab9d5eab46d"
      },
      "execution_count": 2,
      "outputs": [
        {
          "output_type": "stream",
          "name": "stdout",
          "text": [
            "Ingrese la primera cadena: 123\n",
            "Ingrese la segunda cadena: 1235\n",
            "El mensaje concatenado es: 123 1235\n"
          ]
        }
      ]
    },
    {
      "cell_type": "markdown",
      "source": [
        "##Arreglos para generar y mostrar las tablas de multiplicar del 1 al 10\n"
      ],
      "metadata": {
        "id": "dhefzFFsK4Ob"
      }
    },
    {
      "cell_type": "code",
      "source": [
        "# Primero voy a crear una lista para almacenar las tablas de multiplicar, en mi mente funciona\n",
        "tablas = []\n",
        "\n",
        "for i in range(1, 11):\n",
        "    tabla = []\n",
        "    for j in range(1, 11): #Nota para mi, investigar como calcular el producto, para que se haga desde el 1\n",
        "        tabla.append(i * j)\n",
        "    tablas.append(tabla)\n",
        "\n",
        "# Mostrar las tablas de multiplicar\n",
        "for i, tabla in enumerate(tablas, start=1):\n",
        "    print(f\"Tabla del {i}:\")\n",
        "    for j, resultado in enumerate(tabla, start=1):\n",
        "        print(f\"{i} x {j} = {resultado}\")\n",
        "    print()  # Línea en blanco entre tablas\n"
      ],
      "metadata": {
        "colab": {
          "base_uri": "https://localhost:8080/"
        },
        "id": "Y823VxGnMlSx",
        "outputId": "50121cc8-73ce-4430-a6bb-e9d189bd2809"
      },
      "execution_count": 3,
      "outputs": [
        {
          "output_type": "stream",
          "name": "stdout",
          "text": [
            "Tabla del 1:\n",
            "1 x 1 = 1\n",
            "1 x 2 = 2\n",
            "1 x 3 = 3\n",
            "1 x 4 = 4\n",
            "1 x 5 = 5\n",
            "1 x 6 = 6\n",
            "1 x 7 = 7\n",
            "1 x 8 = 8\n",
            "1 x 9 = 9\n",
            "1 x 10 = 10\n",
            "\n",
            "Tabla del 2:\n",
            "2 x 1 = 2\n",
            "2 x 2 = 4\n",
            "2 x 3 = 6\n",
            "2 x 4 = 8\n",
            "2 x 5 = 10\n",
            "2 x 6 = 12\n",
            "2 x 7 = 14\n",
            "2 x 8 = 16\n",
            "2 x 9 = 18\n",
            "2 x 10 = 20\n",
            "\n",
            "Tabla del 3:\n",
            "3 x 1 = 3\n",
            "3 x 2 = 6\n",
            "3 x 3 = 9\n",
            "3 x 4 = 12\n",
            "3 x 5 = 15\n",
            "3 x 6 = 18\n",
            "3 x 7 = 21\n",
            "3 x 8 = 24\n",
            "3 x 9 = 27\n",
            "3 x 10 = 30\n",
            "\n",
            "Tabla del 4:\n",
            "4 x 1 = 4\n",
            "4 x 2 = 8\n",
            "4 x 3 = 12\n",
            "4 x 4 = 16\n",
            "4 x 5 = 20\n",
            "4 x 6 = 24\n",
            "4 x 7 = 28\n",
            "4 x 8 = 32\n",
            "4 x 9 = 36\n",
            "4 x 10 = 40\n",
            "\n",
            "Tabla del 5:\n",
            "5 x 1 = 5\n",
            "5 x 2 = 10\n",
            "5 x 3 = 15\n",
            "5 x 4 = 20\n",
            "5 x 5 = 25\n",
            "5 x 6 = 30\n",
            "5 x 7 = 35\n",
            "5 x 8 = 40\n",
            "5 x 9 = 45\n",
            "5 x 10 = 50\n",
            "\n",
            "Tabla del 6:\n",
            "6 x 1 = 6\n",
            "6 x 2 = 12\n",
            "6 x 3 = 18\n",
            "6 x 4 = 24\n",
            "6 x 5 = 30\n",
            "6 x 6 = 36\n",
            "6 x 7 = 42\n",
            "6 x 8 = 48\n",
            "6 x 9 = 54\n",
            "6 x 10 = 60\n",
            "\n",
            "Tabla del 7:\n",
            "7 x 1 = 7\n",
            "7 x 2 = 14\n",
            "7 x 3 = 21\n",
            "7 x 4 = 28\n",
            "7 x 5 = 35\n",
            "7 x 6 = 42\n",
            "7 x 7 = 49\n",
            "7 x 8 = 56\n",
            "7 x 9 = 63\n",
            "7 x 10 = 70\n",
            "\n",
            "Tabla del 8:\n",
            "8 x 1 = 8\n",
            "8 x 2 = 16\n",
            "8 x 3 = 24\n",
            "8 x 4 = 32\n",
            "8 x 5 = 40\n",
            "8 x 6 = 48\n",
            "8 x 7 = 56\n",
            "8 x 8 = 64\n",
            "8 x 9 = 72\n",
            "8 x 10 = 80\n",
            "\n",
            "Tabla del 9:\n",
            "9 x 1 = 9\n",
            "9 x 2 = 18\n",
            "9 x 3 = 27\n",
            "9 x 4 = 36\n",
            "9 x 5 = 45\n",
            "9 x 6 = 54\n",
            "9 x 7 = 63\n",
            "9 x 8 = 72\n",
            "9 x 9 = 81\n",
            "9 x 10 = 90\n",
            "\n",
            "Tabla del 10:\n",
            "10 x 1 = 10\n",
            "10 x 2 = 20\n",
            "10 x 3 = 30\n",
            "10 x 4 = 40\n",
            "10 x 5 = 50\n",
            "10 x 6 = 60\n",
            "10 x 7 = 70\n",
            "10 x 8 = 80\n",
            "10 x 9 = 90\n",
            "10 x 10 = 100\n",
            "\n"
          ]
        }
      ]
    },
    {
      "cell_type": "markdown",
      "source": [
        "##Muestreo de numeros pares entre el 1 y el 100"
      ],
      "metadata": {
        "id": "HL7_A5e3NW3a"
      }
    },
    {
      "cell_type": "code",
      "source": [
        "# Creo mi variable\n",
        "numeros_pares = [numero for numero in range(1, 101) if numero % 2 == 0]\n",
        "\n",
        "# Mostrar los números pares\n",
        "print(\"Números pares entre 1 y 100:\")\n",
        "print(numeros_pares)\n"
      ],
      "metadata": {
        "colab": {
          "base_uri": "https://localhost:8080/"
        },
        "id": "f1RYGj7pN5t9",
        "outputId": "ba0cfd86-6288-4fc8-998f-6313a790c738"
      },
      "execution_count": 4,
      "outputs": [
        {
          "output_type": "stream",
          "name": "stdout",
          "text": [
            "Números pares entre 1 y 100:\n",
            "[2, 4, 6, 8, 10, 12, 14, 16, 18, 20, 22, 24, 26, 28, 30, 32, 34, 36, 38, 40, 42, 44, 46, 48, 50, 52, 54, 56, 58, 60, 62, 64, 66, 68, 70, 72, 74, 76, 78, 80, 82, 84, 86, 88, 90, 92, 94, 96, 98, 100]\n"
          ]
        }
      ]
    },
    {
      "cell_type": "markdown",
      "source": [
        "##Hacer hola mundo SIN librerias\n",
        "####Amamos Python <3"
      ],
      "metadata": {
        "id": "2Zusz-WpQVhd"
      }
    },
    {
      "cell_type": "code",
      "source": [
        "print(\"Hola mundo\")\n"
      ],
      "metadata": {
        "id": "TirLklccQdE2",
        "outputId": "cc1d069e-6c1b-46f9-f022-11db9da38247",
        "colab": {
          "base_uri": "https://localhost:8080/"
        }
      },
      "execution_count": 5,
      "outputs": [
        {
          "output_type": "stream",
          "name": "stdout",
          "text": [
            "Hola mundo\n"
          ]
        }
      ]
    },
    {
      "cell_type": "markdown",
      "source": [
        "##Hacer hola mundo CON librerias"
      ],
      "metadata": {
        "id": "6gneSFYRQo-f"
      }
    },
    {
      "cell_type": "code",
      "source": [
        "import sys\n",
        "\n",
        "sys.stdout.write(\"Hola mundo\\n\")\n"
      ],
      "metadata": {
        "id": "qmRKyJtHQv4E",
        "outputId": "40d20129-f90f-48da-b20d-9ee92d58ee5c",
        "colab": {
          "base_uri": "https://localhost:8080/"
        }
      },
      "execution_count": 6,
      "outputs": [
        {
          "output_type": "stream",
          "name": "stdout",
          "text": [
            "Hola mundo\n"
          ]
        }
      ]
    }
  ]
}