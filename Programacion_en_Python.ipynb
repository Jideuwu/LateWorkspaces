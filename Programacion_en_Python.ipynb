{
  "nbformat": 4,
  "nbformat_minor": 0,
  "metadata": {
    "colab": {
      "provenance": [],
      "authorship_tag": "ABX9TyP/kuWbcskppqtvT/QwP/Kh",
      "include_colab_link": true
    },
    "kernelspec": {
      "name": "python3",
      "display_name": "Python 3"
    },
    "language_info": {
      "name": "python"
    }
  },
  "cells": [
    {
      "cell_type": "markdown",
      "metadata": {
        "id": "view-in-github",
        "colab_type": "text"
      },
      "source": [
        "<a href=\"https://colab.research.google.com/github/Jideuwu/LateWorkspaces/blob/main/Programacion_en_Python.ipynb\" target=\"_parent\"><img src=\"https://colab.research.google.com/assets/colab-badge.svg\" alt=\"Open In Colab\"/></a>"
      ]
    },
    {
      "cell_type": "markdown",
      "source": [
        "##Hace un codigo que concatene dos string en un mensaje"
      ],
      "metadata": {
        "id": "iD_7waM7KLiO"
      }
    },
    {
      "cell_type": "code",
      "source": [
        "# Pedir al usuario la primera cadena\n",
        "str1 = input(\"Ingrese la primera cadena: \")\n",
        "\n",
        "# Pedir al usuario la segunda cadena\n",
        "str2 = input(\"Ingrese la segunda cadena: \")\n",
        "\n",
        "# Concatenar las cadenas con un espacio entre ellas\n",
        "resultado = str1 + \" \" + str2\n",
        "\n",
        "# Mostrar el resultado\n",
        "print(\"El mensaje concatenado es:\", resultado)"
      ],
      "metadata": {
        "id": "PuZSu6qNKL3Y",
        "outputId": "c2a17be8-d7db-4689-b6d3-1ab9d5eab46d",
        "colab": {
          "base_uri": "https://localhost:8080/"
        }
      },
      "execution_count": 2,
      "outputs": [
        {
          "output_type": "stream",
          "name": "stdout",
          "text": [
            "Ingrese la primera cadena: 123\n",
            "Ingrese la segunda cadena: 1235\n",
            "El mensaje concatenado es: 123 1235\n"
          ]
        }
      ]
    }
  ]
}