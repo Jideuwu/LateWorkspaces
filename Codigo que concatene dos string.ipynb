{
  "nbformat": 4,
  "nbformat_minor": 0,
  "metadata": {
    "colab": {
      "provenance": [],
      "authorship_tag": "ABX9TyPJ+TlAiobhuKH50kuuwEis"
    },
    "kernelspec": {
      "name": "python3",
      "display_name": "Python 3"
    },
    "language_info": {
      "name": "python"
    }
  },
  "cells": [
    {
      "cell_type": "markdown",
      "source": [
        "## Codigo que concatene dos string en un mensaje:"
      ],
      "metadata": {
        "id": "dQRQBkpTUxjo"
      }
    },
    {
      "cell_type": "code",
      "source": [
        "# Pedir al usuario la primera cadena\n",
        "str1 = input(\"Ingrese la primera cadena: \")\n",
        "\n",
        "# Pedir al usuario la segunda cadena\n",
        "str2 = input(\"Ingrese la segunda cadena: \")\n",
        "\n",
        "# Concatenar las cadenas con un espacio entre ellas\n",
        "resultado = str1 + \" \" + str2\n",
        "\n",
        "# Mostrar el resultado\n",
        "print(\"El mensaje concatenado es:\", resultado)\n"
      ],
      "metadata": {
        "colab": {
          "base_uri": "https://localhost:8080/"
        },
        "id": "tsvs2CRsU45J",
        "outputId": "4f5cd088-ec67-4218-9b25-eea498dd4a44"
      },
      "execution_count": 1,
      "outputs": [
        {
          "output_type": "stream",
          "name": "stdout",
          "text": [
            "Ingrese la primera cadena: 1254\n",
            "Ingrese la segunda cadena: 12336\n",
            "El mensaje concatenado es: 1254 12336\n"
          ]
        }
      ]
    },
    {
      "cell_type": "code",
      "source": [],
      "metadata": {
        "id": "yp12XqHPVQVP"
      },
      "execution_count": null,
      "outputs": []
    }
  ]
}